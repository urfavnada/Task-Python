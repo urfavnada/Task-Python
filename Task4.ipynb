{
  "cells": [
    {
      "cell_type": "markdown",
      "metadata": {
        "id": "view-in-github",
        "colab_type": "text"
      },
      "source": [
        "<a href=\"https://colab.research.google.com/github/urfavnada/Task-Python/blob/main/Task4.ipynb\" target=\"_parent\"><img src=\"https://colab.research.google.com/assets/colab-badge.svg\" alt=\"Open In Colab\"/></a>"
      ]
    },
    {
      "cell_type": "markdown",
      "id": "01b6368a",
      "metadata": {
        "id": "01b6368a"
      },
      "source": [
        "<h1 align='center'><font color='red'> Task_4\n"
      ]
    },
    {
      "cell_type": "markdown",
      "id": "ce58d89a",
      "metadata": {
        "id": "ce58d89a"
      },
      "source": [
        "1. [NumPy](#NumPy)\n",
        "1. [oop](#oop)\n",
        "3. [ProblemSolving](#ProblemSolving)\n"
      ]
    },
    {
      "cell_type": "markdown",
      "id": "b4e00004",
      "metadata": {
        "id": "b4e00004"
      },
      "source": [
        "<a id='NumPy'></a>\n",
        "<h1><font color='red'> NumPy"
      ]
    },
    {
      "cell_type": "markdown",
      "id": "47431e1d",
      "metadata": {
        "id": "47431e1d"
      },
      "source": [
        "## 1.What does NumPy stand for?"
      ]
    },
    {
      "cell_type": "markdown",
      "source": [],
      "metadata": {
        "id": "bpoLyuM77B0H"
      },
      "id": "bpoLyuM77B0H"
    },
    {
      "cell_type": "markdown",
      "id": "d41a0dbf",
      "metadata": {
        "id": "d41a0dbf"
      },
      "source": [
        "\n",
        "#### A) Number Python\n",
        "#### B)Numerator Python\n",
        "#### C) Numerical Python\n",
        "#### D)There is no full form, it is a stand-alone word  \n"
      ]
    },
    {
      "cell_type": "code",
      "source": [
        "A = False #@param {type:\"boolean\"}\n",
        "B = False #@param {type:\"boolean\"}\n",
        "C = True #@param {type:\"boolean\"}\n",
        "D = False #@param {type:\"boolean\"}\n"
      ],
      "metadata": {
        "id": "zMrpHpmJ-_Il"
      },
      "id": "zMrpHpmJ-_Il",
      "execution_count": null,
      "outputs": []
    },
    {
      "cell_type": "markdown",
      "id": "25547c4f",
      "metadata": {
        "id": "25547c4f"
      },
      "source": [
        "## 2.What does the size attribute in numpy use to find?"
      ]
    },
    {
      "cell_type": "markdown",
      "id": "5d3bce4d",
      "metadata": {
        "id": "5d3bce4d"
      },
      "source": [
        "\n",
        "#### A) number of items\n",
        "#### B)shape\n",
        "#### C) date & time\n",
        "#### D)unique items\n",
        "    "
      ]
    },
    {
      "cell_type": "code",
      "source": [
        "A = True #@param {type:\"boolean\"}\n",
        "B = False #@param {type:\"boolean\"}\n",
        "C = False #@param {type:\"boolean\"}\n",
        "D = False #@param {type:\"boolean\"}"
      ],
      "metadata": {
        "id": "_zRmM_HQ_YyR"
      },
      "id": "_zRmM_HQ_YyR",
      "execution_count": null,
      "outputs": []
    },
    {
      "cell_type": "markdown",
      "id": "3280ba3a",
      "metadata": {
        "id": "3280ba3a"
      },
      "source": [
        "### 3.What is the purpose of zero() function?"
      ]
    },
    {
      "cell_type": "markdown",
      "id": "b52b7109",
      "metadata": {
        "id": "b52b7109"
      },
      "source": [
        "#### A) To create a matrix with the first row and first column as 0\n",
        "#### B) To create a matrix with diagonal elements as 0\n",
        "#### C) To create a matrix with all elements as 0\n",
        "#### D) To return an integer number 0\n"
      ]
    },
    {
      "cell_type": "code",
      "source": [
        "A = False #@param {type:\"boolean\"}\n",
        "B = False #@param {type:\"boolean\"}\n",
        "C = True #@param {type:\"boolean\"}\n",
        "D = False #@param {type:\"boolean\"}"
      ],
      "metadata": {
        "id": "-74WzwGj__cZ"
      },
      "id": "-74WzwGj__cZ",
      "execution_count": null,
      "outputs": []
    },
    {
      "cell_type": "markdown",
      "id": "3618682c",
      "metadata": {
        "id": "3618682c"
      },
      "source": [
        "<h1><font color='red'> Answer these question"
      ]
    },
    {
      "cell_type": "markdown",
      "id": "e69e4a90",
      "metadata": {
        "id": "e69e4a90"
      },
      "source": [
        "### 4- create 1D, 2D and 3D arrays in NumPy? then returns the type of the elements stored in the NumPy array."
      ]
    },
    {
      "cell_type": "code",
      "execution_count": 1,
      "id": "9c191a1e",
      "metadata": {
        "id": "9c191a1e",
        "outputId": "7779a0cc-c628-47a8-b034-c5eeb005d85c",
        "colab": {
          "base_uri": "https://localhost:8080/"
        }
      },
      "outputs": [
        {
          "output_type": "stream",
          "name": "stdout",
          "text": [
            "[1 2 3]\n"
          ]
        }
      ],
      "source": [
        "# One-Dimensional array\n",
        "\n",
        "import numpy as np\n",
        "MyArray = np.array(([1,2,3]))\n",
        "print(MyArray)\n",
        "\n",
        "\n",
        "\n"
      ]
    },
    {
      "cell_type": "code",
      "execution_count": 3,
      "id": "94c39d76",
      "metadata": {
        "id": "94c39d76",
        "outputId": "44f143f2-e52f-4f72-ff50-a7e5d49ae2c7",
        "colab": {
          "base_uri": "https://localhost:8080/"
        }
      },
      "outputs": [
        {
          "output_type": "stream",
          "name": "stdout",
          "text": [
            "[[1 2 3]\n",
            " [4 5 6]\n",
            " [7 8 9]]\n"
          ]
        }
      ],
      "source": [
        "# Two-Dimensional array\n",
        "\n",
        "import numpy as np\n",
        "MyArray2 = np.array([[1,2,3],\n",
        "                    [4,5,6],\n",
        "                    [7,8,9]])\n",
        "print(MyArray2)\n",
        "\n",
        "\n",
        "\n"
      ]
    },
    {
      "cell_type": "code",
      "execution_count": 4,
      "id": "be5ef3e2",
      "metadata": {
        "id": "be5ef3e2",
        "outputId": "338356c7-8d71-4a5c-f004-82039e48aee3",
        "colab": {
          "base_uri": "https://localhost:8080/"
        }
      },
      "outputs": [
        {
          "output_type": "stream",
          "name": "stdout",
          "text": [
            "[[[1, 2, 3.4], [5, 6, 7, 8], [9, 10, 11, 12]], [[13, 14, 15, 16], [17, 18, 19, 20], [21, 22, 23, 24]]]\n"
          ]
        }
      ],
      "source": [
        "# Three-Dimensional array\n",
        "import numpy as np\n",
        "MyArray3 = ([[[1,2,3.4],\n",
        "              [5,6,7,8],\n",
        "              [9,10,11,12]],\n",
        "             [[13,14,15,16],\n",
        "              [17,18,19,20],\n",
        "              [21,22,23,24]]])\n",
        "print(MyArray3)\n",
        "\n",
        "\n",
        "\n",
        "\n"
      ]
    },
    {
      "cell_type": "markdown",
      "id": "a7846d9f",
      "metadata": {
        "id": "a7846d9f"
      },
      "source": [
        "### 5-Reverse this array [[[1,2,3,4],[4,5,6,7],[7,8,9,10]]] in two ways......"
      ]
    },
    {
      "cell_type": "code",
      "execution_count": 5,
      "id": "e98b8f1a",
      "metadata": {
        "id": "e98b8f1a",
        "outputId": "4540eac3-14b8-4494-a67d-d451a5b8c082",
        "colab": {
          "base_uri": "https://localhost:8080/"
        }
      },
      "outputs": [
        {
          "output_type": "stream",
          "name": "stdout",
          "text": [
            "[[[10  9  8  7]\n",
            "  [ 7  6  5  4]\n",
            "  [ 4  3  2  1]]]\n"
          ]
        }
      ],
      "source": [
        "# Method one\n",
        "\n",
        "import numpy as np\n",
        "Array1 = np.array([[[1, 2, 3, 4],\n",
        "                    [4, 5, 6, 7],\n",
        "                    [7, 8, 9, 10]]])\n",
        "Array2 = Array1[::-1, ::-1, ::-1]\n",
        "print(Array2)\n",
        "\n",
        "\n",
        "\n",
        "\n",
        "\n"
      ]
    },
    {
      "cell_type": "code",
      "execution_count": 6,
      "id": "48627ad8",
      "metadata": {
        "id": "48627ad8",
        "outputId": "d49efc9c-faa0-493d-ead2-0eb9b34be657",
        "colab": {
          "base_uri": "https://localhost:8080/"
        }
      },
      "outputs": [
        {
          "output_type": "stream",
          "name": "stdout",
          "text": [
            "[[[10  9  8  7]\n",
            "  [ 7  6  5  4]\n",
            "  [ 4  3  2  1]]]\n"
          ]
        }
      ],
      "source": [
        "# Method two\n",
        "#>**hint**: use flipud function\n",
        "import numpy as np\n",
        "Array1 = np.array([[[1, 2, 3, 4],\n",
        "                    [4, 5, 6, 7],\n",
        "                    [7, 8, 9, 10]]])\n",
        "Array2 = np.flip(Array1)\n",
        "print(Array2)\n",
        "\n",
        "\n",
        "\n",
        "\n"
      ]
    },
    {
      "cell_type": "markdown",
      "id": "e85f1615",
      "metadata": {
        "id": "e85f1615"
      },
      "source": [
        "## 6-Make this array as an array one dimensional"
      ]
    },
    {
      "cell_type": "code",
      "execution_count": 7,
      "id": "ebb77e8a",
      "metadata": {
        "id": "ebb77e8a",
        "outputId": "aa5c3766-f63a-4987-f494-a19a422f71eb",
        "colab": {
          "base_uri": "https://localhost:8080/"
        }
      },
      "outputs": [
        {
          "output_type": "stream",
          "name": "stdout",
          "text": [
            "[ 1  2  3  4  4  5  6  7  7  8  9 10]\n"
          ]
        }
      ],
      "source": [
        "import numpy as np\n",
        "Array1 = np.array([[[1,2,3,4],\n",
        "                    [4,5,6,7],\n",
        "                    [7,8,9,10]]])\n",
        "Array2 = np.reshape(Array1,(-1))\n",
        "print(Array2)"
      ]
    },
    {
      "cell_type": "code",
      "execution_count": null,
      "id": "72487dda",
      "metadata": {
        "id": "72487dda"
      },
      "outputs": [],
      "source": []
    },
    {
      "cell_type": "markdown",
      "id": "bc6fd424",
      "metadata": {
        "id": "bc6fd424"
      },
      "source": [
        "## 7- Create a 3X2 integer array and Prints its attributes¶\n",
        "* Note: The element must be a type of unsigned int16. And print the following Attributes:\n",
        "\n",
        "- The shape of an array.\n",
        "- Array dimensions.\n",
        "- The Length of each element of the array in bytes"
      ]
    },
    {
      "cell_type": "code",
      "execution_count": 8,
      "id": "04f6f820",
      "metadata": {
        "id": "04f6f820",
        "outputId": "ff769b52-d81a-41b7-db38-97e80deeeca6",
        "colab": {
          "base_uri": "https://localhost:8080/"
        }
      },
      "outputs": [
        {
          "output_type": "stream",
          "name": "stdout",
          "text": [
            "The array : [[1 3]\n",
            " [2 4]\n",
            " [5 7]]\n",
            "The shape of the array : (3, 2)\n",
            "The array dimensions : 2\n",
            "The length of each element : 2\n"
          ]
        }
      ],
      "source": [
        "import numpy as np\n",
        "Array = np.array([[1, 3],\n",
        "                     [2, 4],\n",
        "                     [5, 7]], dtype=np.uint16)\n",
        "print(\"The array :\",Array)\n",
        "print(\"The shape of the array :\",Array.shape)\n",
        "print(\"The array dimensions :\",Array.ndim)\n",
        "print(\"The length of each element :\",Array.itemsize)"
      ]
    },
    {
      "cell_type": "markdown",
      "id": "c80d388f",
      "metadata": {
        "id": "c80d388f"
      },
      "source": [
        "### 8- Return array of odd rows and even columns from below numpy array\n",
        "\n",
        "* # Ordering the values of each Key and the print the key witht highest value.\n",
        "\n",
        "\n",
        "> **`sampleArray = numpy.array([[3 ,6, 9, 12], [15 ,18, 21, 24],\n",
        "[27 ,30, 33, 36], [39 ,42, 45, 48], [51 ,54, 57, 60]])`**\n",
        "\n",
        "\n",
        "# The output should be:\n",
        "* `expexted output :\n",
        "[[ 3  6  9 12]\n",
        " [15 18 21 24]\n",
        " [27 30 33 36]\n",
        " [39 42 45 48]\n",
        " [51 54 57 60]]`\n",
        "\n",
        "* `Printing array of odd rows and even columns\n",
        "[[ 6 12]\n",
        " [30 36]\n",
        " [54 60]]`*"
      ]
    },
    {
      "cell_type": "code",
      "source": [],
      "metadata": {
        "id": "lT-8p9Ml4NT6"
      },
      "id": "lT-8p9Ml4NT6",
      "execution_count": null,
      "outputs": []
    },
    {
      "cell_type": "markdown",
      "id": "eae73db7",
      "metadata": {
        "id": "eae73db7"
      },
      "source": [
        "## 9-How is np.mean() different from np.average() in NumPy?\n",
        "\n",
        "*   List item\n",
        "*   List item\n",
        "\n"
      ]
    },
    {
      "cell_type": "code",
      "execution_count": null,
      "id": "8u9uBik3OHNt",
      "metadata": {
        "id": "8u9uBik3OHNt"
      },
      "outputs": [],
      "source": [
        "# np.mean() computes the simple arithmetic mean of an array\n",
        "# while np.average() extends this functionality by allowing you to provide weights for the elements when computing the average"
      ]
    },
    {
      "cell_type": "markdown",
      "id": "81a2ddc8",
      "metadata": {
        "id": "81a2ddc8"
      },
      "source": [
        "## 10-Count the frequency of a given positive value appearing in this NumPy array\n",
        "## [1, 2, 1, 3, 5, 0, 0, 0, 2, 3] ?"
      ]
    },
    {
      "cell_type": "code",
      "execution_count": 11,
      "id": "de7ee71c",
      "metadata": {
        "id": "de7ee71c",
        "outputId": "6d80059c-eff2-4a0c-c4c5-a2838f8a72af",
        "colab": {
          "base_uri": "https://localhost:8080/"
        }
      },
      "outputs": [
        {
          "output_type": "stream",
          "name": "stdout",
          "text": [
            "[[0 1 2 3 5]\n",
            " [3 2 2 2 1]]\n"
          ]
        }
      ],
      "source": [
        "import numpy as np\n",
        "Array = np.array([1, 2, 1, 3, 5, 0, 0, 0, 2, 3])\n",
        "unique_elements, counts_elements = np.unique(Array, return_counts=True)\n",
        "print(np.asarray((unique_elements, counts_elements)))"
      ]
    },
    {
      "cell_type": "markdown",
      "id": "dba015f1",
      "metadata": {
        "id": "dba015f1"
      },
      "source": [
        "## 11-Show how is arr[:,0] different from arr[:,[0]]"
      ]
    },
    {
      "cell_type": "code",
      "execution_count": null,
      "id": "6fe4ab56",
      "metadata": {
        "id": "6fe4ab56"
      },
      "outputs": [],
      "source": [
        "# arr[:,0] => return 1D array containing the elements from the first column.\n",
        "# arr[:,[0]] => a new axis, effectively converting the selected column into a 2D array with a single column."
      ]
    },
    {
      "cell_type": "code",
      "execution_count": 20,
      "id": "f4694086",
      "metadata": {
        "id": "f4694086",
        "outputId": "678f42a2-b3c2-447f-e03f-59122ba70a9e",
        "colab": {
          "base_uri": "https://localhost:8080/"
        }
      },
      "outputs": [
        {
          "output_type": "stream",
          "name": "stdout",
          "text": [
            "arr[:, 0]:\n",
            "[1 4 7]\n",
            "arr[:, [0]]:\n",
            "[[1]\n",
            " [4]\n",
            " [7]]\n"
          ]
        }
      ],
      "source": [
        "import numpy as np\n",
        "\n",
        "MyArray = np.array([[1, 2, 3],\n",
        "                [4, 5, 6],\n",
        "                [7, 8, 9]])\n",
        "# first\n",
        "column_0 = MyArray[:,0]\n",
        "print(\"arr[:, 0]:\")\n",
        "print(column_0)\n",
        "\n",
        "# second\n",
        "column_0_2d = MyArray[:,[0]]\n",
        "print(\"arr[:, [0]]:\")\n",
        "print(column_0_2d)"
      ]
    },
    {
      "cell_type": "code",
      "source": [],
      "metadata": {
        "id": "YYM8lktGWKTv"
      },
      "id": "YYM8lktGWKTv",
      "execution_count": null,
      "outputs": []
    },
    {
      "cell_type": "markdown",
      "id": "6fe6ca1b",
      "metadata": {
        "id": "6fe6ca1b"
      },
      "source": [
        "### 12-How do you multiply these 2 NumPy array matrices [[15,16,17],[18,19,20],[21,22,23]]  &  [[20,21,22],[23,24,25],[26,27,28]] ?"
      ]
    },
    {
      "cell_type": "code",
      "execution_count": 21,
      "id": "7500d7e4",
      "metadata": {
        "id": "7500d7e4",
        "outputId": "33a66b8c-9106-4c98-f470-130e9f18ac2d",
        "colab": {
          "base_uri": "https://localhost:8080/"
        }
      },
      "outputs": [
        {
          "output_type": "stream",
          "name": "stdout",
          "text": [
            "[[1110 1158 1206]\n",
            " [1317 1374 1431]\n",
            " [1524 1590 1656]]\n"
          ]
        }
      ],
      "source": [
        "import numpy as np\n",
        "Array1 = np.array([[15,16,17],[18,19,20],[21,22,23]])\n",
        "Array2 = np.array([[20,21,22],[23,24,25],[26,27,28]])\n",
        "Multipluction = np.dot(Array1,Array2)\n",
        "print(Multipluction)"
      ]
    },
    {
      "cell_type": "code",
      "execution_count": null,
      "id": "f9f6a9c3",
      "metadata": {
        "id": "f9f6a9c3"
      },
      "outputs": [],
      "source": []
    },
    {
      "cell_type": "code",
      "execution_count": null,
      "id": "29c487c4",
      "metadata": {
        "id": "29c487c4"
      },
      "outputs": [],
      "source": []
    },
    {
      "cell_type": "markdown",
      "id": "87e4e530",
      "metadata": {
        "id": "87e4e530"
      },
      "source": [
        "### 13 -Combine these 2 NumPy arrays [1,2,3] & [4,5,6] using vstack()     and hstack()"
      ]
    },
    {
      "cell_type": "code",
      "execution_count": 23,
      "id": "8556f467",
      "metadata": {
        "id": "8556f467",
        "outputId": "e7765a4c-6b85-4576-d256-c49446835f3f",
        "colab": {
          "base_uri": "https://localhost:8080/"
        }
      },
      "outputs": [
        {
          "output_type": "stream",
          "name": "stdout",
          "text": [
            "[[1 2 3]\n",
            " [4 5 6]]\n",
            "[1 2 3 4 5 6]\n"
          ]
        }
      ],
      "source": [
        "import numpy as np\n",
        "Array1 = np.array([1, 2, 3])\n",
        "Array2 = np.array([4, 5, 6])\n",
        "vertical = np.vstack((Array1, Array2))\n",
        "horizontal = np.hstack((Array1, Array2))\n",
        "print(vertical)\n",
        "print(horizontal)"
      ]
    },
    {
      "cell_type": "markdown",
      "id": "6d99f57e",
      "metadata": {
        "id": "6d99f57e"
      },
      "source": [
        "# <a id='oop'></a>\n",
        "<h1><font color='red'> oop"
      ]
    },
    {
      "cell_type": "markdown",
      "id": "d09ebaa6",
      "metadata": {
        "id": "d09ebaa6"
      },
      "source": [
        "# 1 - a \"class\" is ... </font>\n",
        "\n",
        "<br> </br>\n",
        "#### A) an instance variable\n",
        "#### B) a code template for creating object\n",
        "#### C) a function in python\n",
        "#### D) a synonym for methods"
      ]
    },
    {
      "cell_type": "code",
      "execution_count": 24,
      "id": "dd8d79b8",
      "metadata": {
        "id": "dd8d79b8"
      },
      "outputs": [],
      "source": [
        "A = False #@param {type:\"boolean\"}\n",
        "B = True #@param {type:\"boolean\"}\n",
        "C = False #@param {type:\"boolean\"}\n",
        "D = False #@param {type:\"boolean\"}\n"
      ]
    },
    {
      "cell_type": "markdown",
      "id": "94da8748",
      "metadata": {
        "id": "94da8748"
      },
      "source": [
        "# 2- What is a \"docstring\" ?</font>\n",
        "<br> </br>\n",
        "#### A) it is a sting literal specified in source code that is used to explain or document a specific segment of code\n",
        "#### B) it is a class method that allows working with string documents\n",
        "#### C) it is an alternative name for instance vaeiables of type string apprearing in classes\n",
        "#### D) it is a synonym for code comments"
      ]
    },
    {
      "cell_type": "code",
      "execution_count": 25,
      "id": "b3e6804e",
      "metadata": {
        "id": "b3e6804e"
      },
      "outputs": [],
      "source": [
        "A = True #@param {type:\"boolean\"}\n",
        "B = False #@param {type:\"boolean\"}\n",
        "C = False #@param {type:\"boolean\"}\n",
        "D = False #@param {type:\"boolean\"}\n"
      ]
    },
    {
      "cell_type": "markdown",
      "id": "0d792965",
      "metadata": {
        "id": "0d792965"
      },
      "source": [
        "## 3- Create a Bus class that inherits from the Vehicle class. Give the capacity argument of Bus.seating_capacity() a default value of 50.\n",
        "- Use the following code for your parent Vehicle class:.\n",
        ">   class Vehicle:\n",
        "    def __init__(self, name, max_speed, mileage):\n",
        "        self.name = name\n",
        "        self.max_speed = max_speed\n",
        "        self.mileage = mileage\n",
        "    def seating_capacity(self, capacity):\n",
        "        return f\"The seating capacity of a {self.name} is {capacity} passengers\n"
      ]
    },
    {
      "cell_type": "code",
      "execution_count": 13,
      "id": "ca64451c",
      "metadata": {
        "id": "ca64451c",
        "outputId": "17a03f8e-1cb3-4807-9543-954c9b661c97",
        "colab": {
          "base_uri": "https://localhost:8080/",
          "height": 349
        }
      },
      "outputs": [
        {
          "output_type": "error",
          "ename": "TypeError",
          "evalue": "ignored",
          "traceback": [
            "\u001b[0;31m---------------------------------------------------------------------------\u001b[0m",
            "\u001b[0;31mTypeError\u001b[0m                                 Traceback (most recent call last)",
            "\u001b[0;32m<ipython-input-13-a40ccd5363a7>\u001b[0m in \u001b[0;36m<cell line: 15>\u001b[0;34m()\u001b[0m\n\u001b[1;32m     13\u001b[0m         \u001b[0;32mreturn\u001b[0m \u001b[0;34mf\"The seating capacity of a {self.name} is {self.capacity} passengers\"\u001b[0m\u001b[0;34m\u001b[0m\u001b[0;34m\u001b[0m\u001b[0m\n\u001b[1;32m     14\u001b[0m \u001b[0;34m\u001b[0m\u001b[0m\n\u001b[0;32m---> 15\u001b[0;31m \u001b[0mMyBus\u001b[0m \u001b[0;34m=\u001b[0m \u001b[0mBus\u001b[0m\u001b[0;34m(\u001b[0m\u001b[0;34m\"BMW\"\u001b[0m\u001b[0;34m,\u001b[0m \u001b[0;34m\"X4 M\"\u001b[0m\u001b[0;34m,\u001b[0m \u001b[0;36m50\u001b[0m\u001b[0;34m)\u001b[0m\u001b[0;34m\u001b[0m\u001b[0;34m\u001b[0m\u001b[0m\n\u001b[0m\u001b[1;32m     16\u001b[0m \u001b[0mprint\u001b[0m\u001b[0;34m(\u001b[0m\u001b[0mMyBus\u001b[0m\u001b[0;34m.\u001b[0m\u001b[0mseating_capacity\u001b[0m\u001b[0;34m(\u001b[0m\u001b[0;34m)\u001b[0m\u001b[0;34m)\u001b[0m\u001b[0;34m\u001b[0m\u001b[0;34m\u001b[0m\u001b[0m\n",
            "\u001b[0;32m<ipython-input-13-a40ccd5363a7>\u001b[0m in \u001b[0;36m__init__\u001b[0;34m(self, name, max_speed, capacity)\u001b[0m\n\u001b[1;32m      7\u001b[0m \u001b[0;32mclass\u001b[0m \u001b[0mBus\u001b[0m\u001b[0;34m(\u001b[0m\u001b[0mVehicle\u001b[0m\u001b[0;34m)\u001b[0m\u001b[0;34m:\u001b[0m\u001b[0;34m\u001b[0m\u001b[0;34m\u001b[0m\u001b[0m\n\u001b[1;32m      8\u001b[0m     \u001b[0;32mdef\u001b[0m \u001b[0m__init__\u001b[0m\u001b[0;34m(\u001b[0m\u001b[0mself\u001b[0m\u001b[0;34m,\u001b[0m \u001b[0mname\u001b[0m\u001b[0;34m,\u001b[0m \u001b[0mmax_speed\u001b[0m\u001b[0;34m,\u001b[0m \u001b[0mcapacity\u001b[0m\u001b[0;34m)\u001b[0m\u001b[0;34m:\u001b[0m\u001b[0;34m\u001b[0m\u001b[0;34m\u001b[0m\u001b[0m\n\u001b[0;32m----> 9\u001b[0;31m         \u001b[0msuper\u001b[0m\u001b[0;34m(\u001b[0m\u001b[0;34m)\u001b[0m\u001b[0;34m.\u001b[0m\u001b[0m__init__\u001b[0m\u001b[0;34m(\u001b[0m\u001b[0mname\u001b[0m\u001b[0;34m,\u001b[0m \u001b[0mmax_speed\u001b[0m\u001b[0;34m)\u001b[0m\u001b[0;34m\u001b[0m\u001b[0;34m\u001b[0m\u001b[0m\n\u001b[0m\u001b[1;32m     10\u001b[0m         \u001b[0mself\u001b[0m\u001b[0;34m.\u001b[0m\u001b[0mcapacity\u001b[0m \u001b[0;34m=\u001b[0m \u001b[0mcapacity\u001b[0m\u001b[0;34m\u001b[0m\u001b[0;34m\u001b[0m\u001b[0m\n\u001b[1;32m     11\u001b[0m \u001b[0;34m\u001b[0m\u001b[0m\n",
            "\u001b[0;31mTypeError\u001b[0m: Vehicle.__init__() missing 1 required positional argument: 'mileage'"
          ]
        }
      ],
      "source": [
        "class Vehicle:\n",
        "    def __init__(self, name, max_speed, mileage):\n",
        "        self.name = name\n",
        "        self.max_speed = max_speed\n",
        "        self.mileage = mileage\n",
        "\n",
        "class Bus(Vehicle):\n",
        "    def __init__(self, name, max_speed, capacity):\n",
        "        super().__init__(name, max_speed)\n",
        "        # i don't know the reason of the error\n",
        "        self.capacity = capacity\n",
        "\n",
        "    def seating_capacity(self):\n",
        "        return f\"The seating capacity of a {self.name} is {self.capacity} passengers\"\n",
        "\n",
        "MyBus = Bus(\"BMW\", \"X4 M\", 50)\n",
        "print(MyBus.seating_capacity())"
      ]
    },
    {
      "cell_type": "code",
      "execution_count": null,
      "id": "238fb7cc",
      "metadata": {
        "id": "238fb7cc"
      },
      "outputs": [],
      "source": []
    },
    {
      "cell_type": "markdown",
      "id": "DKUWVq49LxBa",
      "metadata": {
        "id": "DKUWVq49LxBa"
      },
      "source": [
        "# <a id='ProblemSolving'></a>\n",
        "<h1><font color='red'>Problem Solving\n"
      ]
    },
    {
      "cell_type": "markdown",
      "id": "MwvD232bMq32",
      "metadata": {
        "id": "MwvD232bMq32"
      },
      "source": [
        "<a href='https://codeforces.com/problemset/problem/339/A'> **problem 1**"
      ]
    },
    {
      "cell_type": "code",
      "execution_count": 14,
      "id": "I5krJ01gLxBh",
      "metadata": {
        "id": "I5krJ01gLxBh",
        "outputId": "103fabf6-d582-41bc-fa08-eecb9d5d115e",
        "colab": {
          "base_uri": "https://localhost:8080/"
        }
      },
      "outputs": [
        {
          "output_type": "stream",
          "name": "stdout",
          "text": [
            "3+2+1\n",
            "1+2+3\n"
          ]
        }
      ],
      "source": [
        "# Problem_1 Link:\n",
        "s = input()\n",
        "\n",
        "# Split the input string by '+', convert to integers, and sort\n",
        "numbers = sorted(map(int, s.split('+')))\n",
        "\n",
        "# Create the new sum string\n",
        "new_s = '+'.join(map(str, numbers))\n",
        "\n",
        "# Print the new sum string\n",
        "print(new_s)\n",
        "\n",
        "\n"
      ]
    },
    {
      "cell_type": "markdown",
      "id": "DatcMQ4EM3Hb",
      "metadata": {
        "id": "DatcMQ4EM3Hb"
      },
      "source": [
        "<a href='https://codeforces.com/problemset/problem/118/A'> **problem 2**"
      ]
    },
    {
      "cell_type": "code",
      "execution_count": 15,
      "id": "bR2YKH5fLxBh",
      "metadata": {
        "id": "bR2YKH5fLxBh",
        "outputId": "99a9353d-7a72-4056-b412-f311d2bdf896",
        "colab": {
          "base_uri": "https://localhost:8080/"
        }
      },
      "outputs": [
        {
          "output_type": "stream",
          "name": "stdout",
          "text": [
            "tour\n",
            ".t.r\n"
          ]
        }
      ],
      "source": [
        "# Problem_2 Link:\n",
        "\n",
        "def process_string(s):\n",
        "    vowels = \"AEIOUYaeiouy\"\n",
        "    processed_string = \"\"\n",
        "\n",
        "    for char in s:\n",
        "        if char not in vowels:\n",
        "            processed_string += \".\" + char.lower()\n",
        "\n",
        "    return processed_string\n",
        "\n",
        "# Read the input string\n",
        "input_string = input()\n",
        "\n",
        "# Process the input string and print the result\n",
        "result = process_string(input_string)\n",
        "print(result)\n"
      ]
    }
  ],
  "metadata": {
    "colab": {
      "provenance": [],
      "include_colab_link": true
    },
    "kernelspec": {
      "display_name": "Python 3",
      "language": "python",
      "name": "python3"
    },
    "language_info": {
      "codemirror_mode": {
        "name": "ipython",
        "version": 3
      },
      "file_extension": ".py",
      "mimetype": "text/x-python",
      "name": "python",
      "nbconvert_exporter": "python",
      "pygments_lexer": "ipython3",
      "version": "3.8.8"
    }
  },
  "nbformat": 4,
  "nbformat_minor": 5
}