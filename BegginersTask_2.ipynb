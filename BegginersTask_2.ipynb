{
  "nbformat": 4,
  "nbformat_minor": 0,
  "metadata": {
    "colab": {
      "provenance": [],
      "include_colab_link": true
    },
    "kernelspec": {
      "name": "python3",
      "display_name": "Python 3"
    },
    "language_info": {
      "name": "python"
    }
  },
  "cells": [
    {
      "cell_type": "markdown",
      "metadata": {
        "id": "view-in-github",
        "colab_type": "text"
      },
      "source": [
        "<a href=\"https://colab.research.google.com/github/urfavnada/Task-Python/blob/main/BegginersTask_2.ipynb\" target=\"_parent\"><img src=\"https://colab.research.google.com/assets/colab-badge.svg\" alt=\"Open In Colab\"/></a>"
      ]
    },
    {
      "cell_type": "markdown",
      "source": [
        "#**Task_2  ^_^**\n",
        "\n",
        "---"
      ],
      "metadata": {
        "id": "HqjLIidRrJI4"
      }
    },
    {
      "cell_type": "markdown",
      "source": [
        "# <font color='red'> 1) Mark down all the Valid function-calls for this function: </font>\n",
        "\n",
        "\n",
        "# def fun1(name, age):<br> ..... print(name,age)\n",
        "\n",
        "\n",
        "\n",
        "\n",
        "\n",
        "\n",
        "<br> </br>\n",
        "#### A) fun1( \"Emma\"  ,  23 )\n",
        "<br> </br>\n",
        "#### B) fun1( age = 23  ,  name = \"Emma\" )\n",
        "<br> </br>\n",
        "#### C) fun1( \"Emma\"  ,  age = 23 )\n",
        "<br> </br>\n",
        "#### D) fun1( name = \"Emma\" ,  23 )\n",
        "<br> </br>\n",
        "#### E) fun1( age = 23  ,  \"Emma\" )"
      ],
      "metadata": {
        "id": "W3zZBdg0raRU"
      }
    },
    {
      "cell_type": "code",
      "source": [
        "A = True #@param {type:\"boolean\"}\n",
        "B = False #@param {type:\"boolean\"}\n",
        "C = False #@param {type:\"boolean\"}\n",
        "D = False #@param {type:\"boolean\"}\n",
        "E = False #@param {type:\"boolean\"}\n"
      ],
      "metadata": {
        "id": "oUiqgPmFr3Y5"
      },
      "execution_count": 1,
      "outputs": []
    },
    {
      "cell_type": "markdown",
      "source": [
        "# <font color='red'> 2) Debug the following code and correct the Error to make the output = 15: </font>\n",
        "\n",
        "\n",
        "    \n",
        "    def outer_fun(a, b , c):\n",
        "        def inner_fun(d , e):\n",
        "            return d + e\n",
        "\n",
        "        return inner_fun(a, b , c)\n",
        "        return a\n",
        "\n",
        "    result = outer_fun(5, 10)\n",
        "    print(result)"
      ],
      "metadata": {
        "id": "iQIcizgYsGJ-"
      }
    },
    {
      "cell_type": "code",
      "source": [
        "def outer_fun(a, b ):\n",
        "    def inner_fun(d , e):\n",
        "        return d + e\n",
        "\n",
        "    return inner_fun(a, b)\n",
        "    return a\n",
        "\n",
        "result = outer_fun(5, 10)\n",
        "print(result)"
      ],
      "metadata": {
        "id": "Nhi1O8T9sUwM",
        "colab": {
          "base_uri": "https://localhost:8080/"
        },
        "outputId": "1582218c-19be-4c74-9556-fc6c88a48315"
      },
      "execution_count": 2,
      "outputs": [
        {
          "output_type": "stream",
          "name": "stdout",
          "text": [
            "15\n"
          ]
        }
      ]
    },
    {
      "cell_type": "code",
      "source": [],
      "metadata": {
        "id": "LHfUftHysbQw"
      },
      "execution_count": null,
      "outputs": []
    },
    {
      "cell_type": "markdown",
      "source": [
        "# <font color='red'> 3) Debug the following code and correct the Error to make the output = 16: </font>\n",
        "\n",
        "    def f1(x):\n",
        "        global x\n",
        "        x+=1\n",
        "        print(x)\n",
        "    f1(15)"
      ],
      "metadata": {
        "id": "AYpH9KvysT7D"
      }
    },
    {
      "cell_type": "code",
      "source": [
        "def f1(x):\n",
        "    x+=1\n",
        "    print(x)\n",
        "f1(15)"
      ],
      "metadata": {
        "id": "H6ZiDEOcsc8J",
        "colab": {
          "base_uri": "https://localhost:8080/"
        },
        "outputId": "63b009f5-6a63-4eb3-fe29-b6a9f12ba15f"
      },
      "execution_count": 3,
      "outputs": [
        {
          "output_type": "stream",
          "name": "stdout",
          "text": [
            "16\n"
          ]
        }
      ]
    },
    {
      "cell_type": "code",
      "source": [],
      "metadata": {
        "id": "87FowQ96scTC"
      },
      "execution_count": null,
      "outputs": []
    },
    {
      "cell_type": "markdown",
      "source": [
        "# <font color='red'> 4) Write a function that takes any variable \"n\" and return its factorial: </font>\n",
        "\n",
        "##### **hint:** factorial of 5 = 5 x 4 x 3 x 2 x **1**"
      ],
      "metadata": {
        "id": "DO43cMEjsdxb"
      }
    },
    {
      "cell_type": "code",
      "source": [
        "def factorial(x) :\n",
        "    if x == 0 or x == 1 :\n",
        "        return 1\n",
        "    else :\n",
        "        return (x * factorial(x-1) )\n",
        "n = int(input())\n",
        "print(factorial(n))"
      ],
      "metadata": {
        "id": "HDOOP5Xlsk2a",
        "colab": {
          "base_uri": "https://localhost:8080/"
        },
        "outputId": "29658523-4a68-499f-84cb-44225198d3ff"
      },
      "execution_count": 4,
      "outputs": [
        {
          "output_type": "stream",
          "name": "stdout",
          "text": [
            "5\n",
            "120\n"
          ]
        }
      ]
    },
    {
      "cell_type": "code",
      "source": [],
      "metadata": {
        "id": "1QYBK580skq8"
      },
      "execution_count": null,
      "outputs": []
    },
    {
      "cell_type": "markdown",
      "source": [
        "# <font color='red'> 5) Write a code to print the following dictionary after: </font>\n",
        "* # Ordering the values of each Key and the print the key witht highest value.\n",
        "\n",
        "\n",
        "> **`dict ={ \"Ahmed\": (50 , 30 , 40) , \"Mohammed\": (15 , 10 , 25) , \"Khaled\": (10 , 40 , 20) }`**\n",
        "\n",
        "\n",
        "# The output should be:\n",
        "* `{\"Ahmed\": (50 , 40 , 30) , \"Mohammed\": (25 , 15 , 10) , \"Khaled\": (40 , 20 , 10)}`\n",
        "* `Ahmed`"
      ],
      "metadata": {
        "id": "Iqkj_-JXslnv"
      }
    },
    {
      "cell_type": "code",
      "source": [
        "dict = {\n",
        "    \"Ahmed\": (50, 30, 40),\n",
        "    \"Mohammed\": (15, 10, 25),\n",
        "    \"Khaled\": (10, 40, 20)\n",
        "}\n",
        "def order(dict) :\n",
        "    for key,value in dict.items() :\n",
        "        dict[key] = sorted(value, reverse=True)\n",
        "    return dict\n",
        "\n",
        "print(\"Orderd dictionary : \",order(dict))\n",
        "\n",
        "highest = max(dict, key=lambda k:sum(dict[k]))\n",
        "print(highest)"
      ],
      "metadata": {
        "id": "4KukOajzst0n",
        "colab": {
          "base_uri": "https://localhost:8080/"
        },
        "outputId": "7242bf8b-e70b-4b1a-9738-e562b10d5e05"
      },
      "execution_count": 5,
      "outputs": [
        {
          "output_type": "stream",
          "name": "stdout",
          "text": [
            "Orderd dictionary :  {'Ahmed': [50, 40, 30], 'Mohammed': [25, 15, 10], 'Khaled': [40, 20, 10]}\n",
            "Ahmed\n"
          ]
        }
      ]
    },
    {
      "cell_type": "code",
      "source": [],
      "metadata": {
        "id": "a-iNbiItstos"
      },
      "execution_count": null,
      "outputs": []
    },
    {
      "cell_type": "markdown",
      "source": [
        "# <font color='red'> 6) Write a Python function that accepts a string and counts the number of upper and lower case letters. </font>\n",
        "* ## Sample String : \"Do not Postpone today's Work To tomoRRow\"\n",
        "\n",
        "# Expected Output :\n",
        "* `No. of Upper case characters :  6`\n",
        "* `No. of Lower case Characters :  27 `\n",
        "\n",
        "\n",
        "\n",
        "\n",
        "\n"
      ],
      "metadata": {
        "id": "JIDxmPLrteLT"
      }
    },
    {
      "cell_type": "code",
      "source": [
        "string = input()\n",
        "num_lower = 0\n",
        "num_upper = 0\n",
        "for i in string :\n",
        "    if i.islower() :\n",
        "        num_lower = num_lower+1\n",
        "    else :\n",
        "        num_upper = num_upper +1\n",
        "print(\"N. of lower case char = \",num_lower)\n",
        "print(\"N. of upper case char = \",num_upper)"
      ],
      "metadata": {
        "id": "P3csHw_ZuowG",
        "colab": {
          "base_uri": "https://localhost:8080/"
        },
        "outputId": "fc60906d-619e-44f1-99ff-28da454c0e3c"
      },
      "execution_count": 6,
      "outputs": [
        {
          "output_type": "stream",
          "name": "stdout",
          "text": [
            "Do not Postpone today's Work To tomoRRow\n",
            "N. of lower case char =  27\n",
            "N. of upper case char =  13\n"
          ]
        }
      ]
    },
    {
      "cell_type": "code",
      "source": [],
      "metadata": {
        "id": "5JhkNZFEuoqb"
      },
      "execution_count": null,
      "outputs": []
    },
    {
      "cell_type": "markdown",
      "source": [
        "# <font color='red'> 7) Write a Python function that two numbers N & M and print the summation of their last digits . </font>\n",
        "\n",
        "# * `Input :  13  12`\n",
        "# * `Output: 5`"
      ],
      "metadata": {
        "id": "nzWE8GrKusWX"
      }
    },
    {
      "cell_type": "code",
      "source": [
        "num1 = int(input())\n",
        "num2 = int(input())\n",
        "\n",
        "summation = num1 + num2\n",
        "last = summation % 10\n",
        "print(\"The output \",last)"
      ],
      "metadata": {
        "id": "CoVidok6wP4n",
        "colab": {
          "base_uri": "https://localhost:8080/"
        },
        "outputId": "0bae6627-371d-4108-8ff4-61290507d228"
      },
      "execution_count": 7,
      "outputs": [
        {
          "output_type": "stream",
          "name": "stdout",
          "text": [
            "13\n",
            "12\n",
            "The output  5\n"
          ]
        }
      ]
    },
    {
      "cell_type": "code",
      "source": [],
      "metadata": {
        "id": "xeVfv60iwP1N"
      },
      "execution_count": null,
      "outputs": []
    },
    {
      "cell_type": "markdown",
      "source": [
        "# <font color='red'> 8) Your input is corresponding to a person's age (in days). print his age in years, months and days, followed by its respective message \"years\", \"months\" and \"days\" . </font>\n",
        "\n",
        "# * `Input :  400`\n",
        "# * `Output:  1 year  1 months  5 days`"
      ],
      "metadata": {
        "id": "GFVRG4HywQxr"
      }
    },
    {
      "cell_type": "code",
      "source": [
        "age = int(input())\n",
        "year = age // 365\n",
        "month = (age % 365) // 30\n",
        "day = (age % 365) % 30\n",
        "\n",
        "print(\"U lived {} years, {} months and {} days\" .format(year,month,day))"
      ],
      "metadata": {
        "id": "SB5wxGuw2-uv"
      },
      "execution_count": null,
      "outputs": []
    },
    {
      "cell_type": "markdown",
      "source": [
        "# <font color='red'> **Solve these problems with python**:<br>\n",
        "<a href='https://codeforces.com/group/6Yv6FRlDFU/contest/327653/problem/C'> **problem 1** </a> </font>\n",
        "    <br>\n",
        "    <br>\n",
        "<a href='https://codeforces.com/group/6Yv6FRlDFU/contest/327653/problem/A'> **problem 2** </a> </font>"
      ],
      "metadata": {
        "id": "-DK6SmIpsuhs"
      }
    },
    {
      "cell_type": "code",
      "source": [
        "# problem_1 Link"
      ],
      "metadata": {
        "id": "WWY0KOEFtPQd"
      },
      "execution_count": null,
      "outputs": []
    },
    {
      "cell_type": "code",
      "source": [
        "n = int(input())\n",
        "s = input()\n",
        "stone = 0\n",
        "for i in range(1,n):\n",
        "    if s[i] == s[i-1] :\n",
        "        stone +=1\n",
        "print(stone)"
      ],
      "metadata": {
        "id": "6hITO3GAta6P",
        "colab": {
          "base_uri": "https://localhost:8080/"
        },
        "outputId": "2651964c-b9df-4ed1-d076-f9c1f55670f6"
      },
      "execution_count": 3,
      "outputs": [
        {
          "output_type": "stream",
          "name": "stdout",
          "text": [
            "3\n",
            "RRG\n",
            "1\n"
          ]
        }
      ]
    },
    {
      "cell_type": "code",
      "source": [
        "# problem_2 Link"
      ],
      "metadata": {
        "id": "fbcnnzhEtPE4"
      },
      "execution_count": null,
      "outputs": []
    },
    {
      "cell_type": "code",
      "source": [
        "n, m = map(int, input().split())\n",
        "\n",
        "snake = []\n",
        "for i in range(n):\n",
        "    if i % 2 == 0:\n",
        "        snake.append('#' * m)\n",
        "    else:\n",
        "        snake.append('#' + '.' * (m - 1))\n",
        "\n",
        "for i, row in enumerate(snake):\n",
        "    if i % 2 == 1:\n",
        "        row = row[::-1]\n",
        "    print(row)\n"
      ],
      "metadata": {
        "id": "e1XcNAVUtb0i",
        "colab": {
          "base_uri": "https://localhost:8080/"
        },
        "outputId": "b7ec86f5-d7ce-49d6-d611-4b71f2c407f1"
      },
      "execution_count": 1,
      "outputs": [
        {
          "output_type": "stream",
          "name": "stdout",
          "text": [
            "3 3\n",
            "###\n",
            "..#\n",
            "###\n"
          ]
        }
      ]
    }
  ]
}