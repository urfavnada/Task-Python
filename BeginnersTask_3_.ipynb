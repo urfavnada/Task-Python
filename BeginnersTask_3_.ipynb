{
  "nbformat": 4,
  "nbformat_minor": 0,
  "metadata": {
    "colab": {
      "provenance": [],
      "include_colab_link": true
    },
    "kernelspec": {
      "name": "python3",
      "display_name": "Python 3"
    },
    "language_info": {
      "name": "python"
    }
  },
  "cells": [
    {
      "cell_type": "markdown",
      "metadata": {
        "id": "view-in-github",
        "colab_type": "text"
      },
      "source": [
        "<a href=\"https://colab.research.google.com/github/urfavnada/Task-Python/blob/main/BeginnersTask_3_.ipynb\" target=\"_parent\"><img src=\"https://colab.research.google.com/assets/colab-badge.svg\" alt=\"Open In Colab\"/></a>"
      ]
    },
    {
      "cell_type": "markdown",
      "source": [
        "# <font color='red'> 1) Which of the following statements is NOT true? </font>\n",
        "#### A) In a symmetric distribution, the mean and the median are equal.\n",
        "#### B) The first quartile is equal to the twenty-fifth percentile.\n",
        "#### C) In a symmetric distribution, the median is halfway between the first and the third quartiles.\n",
        "#### D) The median is always greater than the mean.\n",
        "#### E) The range is the difference between the largest and the smallest observation in the data set.   \n"
      ],
      "metadata": {
        "id": "L2JXbKsgbhQR"
      }
    },
    {
      "cell_type": "code",
      "source": [
        "A = True #@param {type:\"boolean\"}\n",
        "B = True #@param {type:\"boolean\"}\n",
        "C = False #@param {type:\"boolean\"}\n",
        "D = False #@param {type:\"boolean\"}\n",
        "E = True #@param {type:\"boolean\"}"
      ],
      "metadata": {
        "id": "FiopRNb1biGJ"
      },
      "execution_count": 1,
      "outputs": []
    },
    {
      "cell_type": "markdown",
      "source": [
        "[link text](https://)# <font color='red'> 2) What is an outlier? </font>"
      ],
      "metadata": {
        "id": "ycld-iXMbx2_"
      }
    },
    {
      "cell_type": "code",
      "source": [
        "# your answerlink text# 2) What is an outlier?\n",
        "\n",
        "is value that lies an abnormal distance from other values in a random sample from a population."
      ],
      "metadata": {
        "id": "q_SH5cjAby2I"
      },
      "execution_count": null,
      "outputs": []
    },
    {
      "cell_type": "code",
      "source": [],
      "metadata": {
        "id": "9XAO9Jv7b1-8"
      },
      "execution_count": null,
      "outputs": []
    },
    {
      "cell_type": "markdown",
      "source": [
        "# <font color='red'> 3) What is the name of the graph below and what insights we discover from it? </font>"
      ],
      "metadata": {
        "id": "zDIh4tVHbzkL"
      }
    },
    {
      "cell_type": "markdown",
      "source": [
        "![box plot.jpg](data:image/jpeg;base64,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)"
      ],
      "metadata": {
        "id": "ayQSMw2mh8ND"
      }
    },
    {
      "cell_type": "code",
      "source": [
        "Boxplot , we discover five-number summary: the minimum, first quartile, median, third quartile, and maximum"
      ],
      "metadata": {
        "id": "Yg8T-2nqfwK9"
      },
      "execution_count": null,
      "outputs": []
    },
    {
      "cell_type": "code",
      "source": [],
      "metadata": {
        "id": "ethF32M6fv-9"
      },
      "execution_count": null,
      "outputs": []
    },
    {
      "cell_type": "markdown",
      "source": [
        "# <font color='red'> 4) What is the meaning of \"the most popular response or value in the data set.\" ? </font>"
      ],
      "metadata": {
        "id": "WqUrEhTFb4Yr"
      }
    },
    {
      "cell_type": "code",
      "source": [
        "mode"
      ],
      "metadata": {
        "id": "pt3i2hI9b429"
      },
      "execution_count": null,
      "outputs": []
    },
    {
      "cell_type": "code",
      "source": [],
      "metadata": {
        "id": "f0Fk_KvIb3BY"
      },
      "execution_count": null,
      "outputs": []
    },
    {
      "cell_type": "markdown",
      "source": [
        "# <font color='red'> 5) What is the meaning of \"  the average distance between each value in your data set and the mean.\" ? </font>"
      ],
      "metadata": {
        "id": "TqCQgiTRySsF"
      }
    },
    {
      "cell_type": "code",
      "source": [
        "standard deviation"
      ],
      "metadata": {
        "id": "03xrIz-DyiK8"
      },
      "execution_count": null,
      "outputs": []
    },
    {
      "cell_type": "code",
      "source": [],
      "metadata": {
        "id": "bf3aakNWyiHo"
      },
      "execution_count": null,
      "outputs": []
    },
    {
      "cell_type": "markdown",
      "source": [
        "# <font color='red'> 6) The following five questions are focused around a public library. Staff members are trying to gain insight on current library card holders and have sent out a short survey to them. Read each prompt carefully and determine the variable type for each question: </font>\n",
        "\n",
        "#### 1.Library card holders were asked whether or not they have checked out a book from the library in the past month (yes or no). What type of variable would their response be considered?\n",
        "\n",
        "\n",
        "\n",
        "#### A) Categorical Nominal\n",
        "#### B) Categorical Ordinal\n",
        "#### C) Quantitative Continuous\n",
        "#### D) Quantitative Discrete\n"
      ],
      "metadata": {
        "id": "S0s3fY2J4NlF"
      }
    },
    {
      "cell_type": "code",
      "source": [
        "A = True #@param {type:\"boolean\"}\n",
        "B = False #@param {type:\"boolean\"}\n",
        "C = False #@param {type:\"boolean\"}\n",
        "D = False #@param {type:\"boolean\"}"
      ],
      "metadata": {
        "id": "zTWJlKQF4QFQ"
      },
      "execution_count": 2,
      "outputs": []
    },
    {
      "cell_type": "markdown",
      "source": [
        "2.Library card holders were asked to report the amount of late fees they have been charged in the past year (input in the form of $XX.XX). What type of variable would their response be considered?\n",
        "\n",
        "#### A) Categorical Nominal\n",
        "#### B) Categorical Ordinal\n",
        "#### C) Quantitative Continuous\n",
        "#### D) Quantitative Discrete"
      ],
      "metadata": {
        "id": "lSLCooHe4Uev"
      }
    },
    {
      "cell_type": "code",
      "source": [
        "A = False #@param {type:\"boolean\"}\n",
        "B = False #@param {type:\"boolean\"}\n",
        "C = True #@param {type:\"boolean\"}\n",
        "D = False #@param {type:\"boolean\"}"
      ],
      "metadata": {
        "id": "fyvQBArN4U_8"
      },
      "execution_count": 3,
      "outputs": []
    },
    {
      "cell_type": "markdown",
      "source": [
        "3.Library card holders were asked to reflect on their most recent book they checked out and report the genre that it most closely represented (i.e. Science Fiction, Action, Romance, Mystery, etc.). What type of variable would their response be considered?\n",
        "#### A) Categorical Nominal\n",
        "#### B) Categorical Ordinal\n",
        "#### C) Quantitative Continuous\n",
        "#### D) Quantitative Discrete"
      ],
      "metadata": {
        "id": "UdSmz3zr4k3Z"
      }
    },
    {
      "cell_type": "code",
      "source": [
        "A = True #@param {type:\"boolean\"}\n",
        "B = False #@param {type:\"boolean\"}\n",
        "C = False #@param {type:\"boolean\"}\n",
        "D = False #@param {type:\"boolean\"}"
      ],
      "metadata": {
        "id": "QfOaUf0L4qxR"
      },
      "execution_count": null,
      "outputs": []
    },
    {
      "cell_type": "markdown",
      "source": [
        "4.The library recently added a new online checkout/renewal system. Library card holders were asked how many times they have used the new online system. What type of variable would their response be considered?\n",
        "#### A) Categorical Nominal\n",
        "#### B) Categorical Ordinal\n",
        "#### C) Quantitative Continuous\n",
        "#### D) Quantitative Discrete"
      ],
      "metadata": {
        "id": "HBxuBzAm4r1W"
      }
    },
    {
      "cell_type": "code",
      "source": [
        "A = False #@param {type:\"boolean\"}\n",
        "B = False #@param {type:\"boolean\"}\n",
        "C = False #@param {type:\"boolean\"}\n",
        "D = True #@param {type:\"boolean\"}"
      ],
      "metadata": {
        "id": "hcJ3AA4Z4wyz"
      },
      "execution_count": null,
      "outputs": []
    },
    {
      "cell_type": "markdown",
      "source": [
        "5.Library card holders were asked to report the satisfaction of their library experience during their last visit using a 1 to 5 scale (with the following representations: 1 - Extremely Unsatisfied, 2 - Unsatisfied, 3 - Neutral, 4 - Satisfied, 5 - Extremely Satisfied). What type of variable would their response be considered?\n",
        "#### A) Categorical Nominal\n",
        "#### B) Categorical Ordinal\n",
        "#### C) Quantitative Continuous\n",
        "#### D) Quantitative Discrete"
      ],
      "metadata": {
        "id": "3oex9aF34xq6"
      }
    },
    {
      "cell_type": "code",
      "source": [
        "A = False #@param {type:\"boolean\"}\n",
        "B = True #@param {type:\"boolean\"}\n",
        "C = False #@param {type:\"boolean\"}\n",
        "D = False #@param {type:\"boolean\"}"
      ],
      "metadata": {
        "id": "yKI5U2k1408_"
      },
      "execution_count": null,
      "outputs": []
    },
    {
      "cell_type": "markdown",
      "source": [
        "# <font color='red'> 7) Create a class called Person that include some valriables like :\n",
        "* name\n",
        "* age\n",
        "* gender\n",
        "* address"
      ],
      "metadata": {
        "id": "CgSDZ64Mjcda"
      }
    },
    {
      "cell_type": "code",
      "source": [
        "class Person :\n",
        "  def __init__(self, name, age, gender, address):\n",
        "        self.name = name\n",
        "        self.age = age\n",
        "        self.gender = gender\n",
        "        self.address = address"
      ],
      "metadata": {
        "id": "3mlSuXoBjc26"
      },
      "execution_count": 4,
      "outputs": []
    },
    {
      "cell_type": "code",
      "source": [],
      "metadata": {
        "id": "9300vb6TjdPT"
      },
      "execution_count": null,
      "outputs": []
    },
    {
      "cell_type": "markdown",
      "source": [
        "# <font color='red'> 8) Create a class called Circle which calculates the area and circumference of a circle  "
      ],
      "metadata": {
        "id": "wluHWL7ejd48"
      }
    },
    {
      "cell_type": "code",
      "source": [
        "import math\n",
        "class Circle :\n",
        "  def __init__(self,r):\n",
        "    self.r = r\n",
        "  def area(self):\n",
        "    return math.pi * self.r**2\n",
        "  def circumference(self):\n",
        "    return math.pi * 2 * self.r\n",
        "\n",
        "Circle1 = Circle(5)\n",
        "print(Circle1.area())\n",
        "print(Circle1.circumference())"
      ],
      "metadata": {
        "id": "EhVCzAyVjeXM",
        "colab": {
          "base_uri": "https://localhost:8080/"
        },
        "outputId": "88676d67-45e9-45fe-9f0d-62c14c1f8586"
      },
      "execution_count": 6,
      "outputs": [
        {
          "output_type": "stream",
          "name": "stdout",
          "text": [
            "78.53981633974483\n",
            "31.41592653589793\n"
          ]
        }
      ]
    },
    {
      "cell_type": "code",
      "source": [],
      "metadata": {
        "id": "lUryrIdFjeut"
      },
      "execution_count": null,
      "outputs": []
    },
    {
      "cell_type": "markdown",
      "source": [
        "# <font color='red'> 9) Complete the following code : </font>\n",
        "\n",
        "\n",
        "    \n",
        "class Product:\n",
        "\n",
        "    def __init__(self, name, price, quantity):\n",
        "        -\n",
        "        -\n",
        "        -\n",
        "\n",
        "    def calculate_total_cost(self):\n",
        "        return  ---------\n",
        "        \n",
        "product1 = Product(\"Laptop\", 15000, 3)\n",
        "\n",
        "product2 = Product(\"Headphones\", 1200, 2)"
      ],
      "metadata": {
        "id": "4CyAzmhyx4F9"
      }
    },
    {
      "cell_type": "code",
      "source": [
        "\n",
        "def __init__(self, name, price, quantity):\n",
        "    self.name = name\n",
        "    self.price = price\n",
        "    self.quantity = quantity\n",
        "\n",
        "def calculate_total_cost(self):\n",
        "    return  self.price * self.quantity"
      ],
      "metadata": {
        "id": "fzt7V0r6yoU5"
      },
      "execution_count": 7,
      "outputs": []
    },
    {
      "cell_type": "code",
      "source": [],
      "metadata": {
        "id": "QLT2-9VnyoRe"
      },
      "execution_count": null,
      "outputs": []
    },
    {
      "cell_type": "markdown",
      "source": [
        "# <font color='red'> **Solve these problems with python**:<br>\n",
        "<a href='https://codeforces.com/group/xLZjnfy3ER/contest/374078/problem/F'> **problem 1**\n",
        "\n",
        "<a href='http://codeforces.com/contest/268/problem/A'> **problem 2**\n",
        "<br>"
      ],
      "metadata": {
        "id": "wBxU9xz5a5u1"
      }
    },
    {
      "cell_type": "code",
      "source": [
        "# Problem 1\n",
        "def print_pum_lines(N):\n",
        "    start = 1\n",
        "    for _ in range(N):\n",
        "        print(start, start+1, start+2, \"PUM\")\n",
        "        start += 4\n",
        "\n",
        "N = int(input().strip())\n",
        "print_pum_lines(N)"
      ],
      "metadata": {
        "id": "nA9v16w3a1hs",
        "colab": {
          "base_uri": "https://localhost:8080/"
        },
        "outputId": "d8850c47-e4e3-4c6b-d167-a523cd4de7d9"
      },
      "execution_count": 8,
      "outputs": [
        {
          "output_type": "stream",
          "name": "stdout",
          "text": [
            "7\n",
            "1 2 3 PUM\n",
            "5 6 7 PUM\n",
            "9 10 11 PUM\n",
            "13 14 15 PUM\n",
            "17 18 19 PUM\n",
            "21 22 23 PUM\n",
            "25 26 27 PUM\n"
          ]
        }
      ]
    },
    {
      "cell_type": "code",
      "source": [
        "# Problem 2\n",
        "def count_guest_uniform_games(n, teams):\n",
        "    count = 0\n",
        "    for i in range(n):\n",
        "        host_color = teams[i][0]\n",
        "        for j in range(n):\n",
        "            if i != j and host_color == teams[j][1]:\n",
        "                count += 1\n",
        "    return count\n",
        "\n",
        "\n",
        "n = int(input().strip())\n",
        "teams = []\n",
        "for _ in range(n):\n",
        "    home_color, guest_color = map(int, input().strip().split())\n",
        "    teams.append((home_color, guest_color))\n",
        "\n",
        "result = count_guest_uniform_games(n, teams)\n",
        "print(result)"
      ],
      "metadata": {
        "id": "7ptK0gnPba-j",
        "colab": {
          "base_uri": "https://localhost:8080/"
        },
        "outputId": "1d0ba389-0e54-43f1-fb6d-9ae77bbe04ed"
      },
      "execution_count": 10,
      "outputs": [
        {
          "output_type": "stream",
          "name": "stdout",
          "text": [
            "3\n",
            "1 2\n",
            "2 4\n",
            "3 4\n",
            "1\n"
          ]
        }
      ]
    }
  ]
}